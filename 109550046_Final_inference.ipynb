{
  "nbformat": 4,
  "nbformat_minor": 0,
  "metadata": {
    "colab": {
      "provenance": []
    },
    "kernelspec": {
      "name": "python3",
      "display_name": "Python 3"
    },
    "language_info": {
      "name": "python"
    }
  },
  "cells": [
    {
      "cell_type": "code",
      "execution_count": 2,
      "metadata": {
        "colab": {
          "base_uri": "https://localhost:8080/"
        },
        "id": "4AZG-EDQtGfR",
        "outputId": "51e1e752-7aca-4140-8315-a56c425c51c3"
      },
      "outputs": [
        {
          "output_type": "stream",
          "name": "stdout",
          "text": [
            "Mounted at /content/drive\n"
          ]
        }
      ],
      "source": [
        "from google.colab import drive\n",
        "drive.mount('/content/drive')"
      ]
    },
    {
      "cell_type": "code",
      "source": [
        "import numpy as np\n",
        "import pandas as pd\n",
        "import torch\n",
        "import math\n",
        "import matplotlib.pylab as plt\n",
        "import seaborn as sns\n",
        "from sklearn.model_selection import StratifiedShuffleSplit, StratifiedKFold\n",
        "from xgboost import XGBClassifier, XGBRegressor, XGBRFClassifier\n",
        "from sklearn.metrics import roc_auc_score\n",
        "from lightgbm import LGBMClassifier, LGBMRegressor\n",
        "from sklearn import preprocessing\n",
        "from sklearn.linear_model import LogisticRegression\n",
        "from sklearn.model_selection import GroupKFold\n",
        "from sklearn.preprocessing import StandardScaler\n",
        "from sklearn.metrics import roc_auc_score, roc_curve, auc\n",
        "from sklearn.experimental import enable_iterative_imputer  # noqa\n",
        "from sklearn.impute import IterativeImputer\n",
        "from sklearn.tree import DecisionTreeClassifier\n",
        "from sklearn.ensemble import AdaBoostClassifier, RandomForestClassifier"
      ],
      "metadata": {
        "id": "luEmVIVgtKUy"
      },
      "execution_count": 9,
      "outputs": []
    },
    {
      "cell_type": "code",
      "source": [
        "test_df = pd.read_csv(\n",
        "    \"/content/drive/MyDrive/final project/test.csv/test.csv\", index_col=\"id\")"
      ],
      "metadata": {
        "id": "nF_6_DnctRiS"
      },
      "execution_count": 10,
      "outputs": []
    },
    {
      "cell_type": "code",
      "source": [
        "def data_process(data):\n",
        "    # referred to this discussion\n",
        "    # https://www.kaggle.com/competitions/tabular-playground-series-aug-2022/discussion/343368\n",
        "    # checking missing values of M3 and M5\n",
        "    data['withM3'] = data.measurement_3.isna()\n",
        "    data['withM5'] = data.measurement_5.isna()\n",
        "    data['withM3&M5'] = data['withM3'] * data['withM5']  \n",
        "    # referred to\n",
        "    # https://www.kaggle.com/code/samuelcortinhas/tps-aug-22-failure-prediction\n",
        "    # do one-hot encoding\n",
        "    materials = ['attribute_0', 'attribute_1']\n",
        "    for col in materials:\n",
        "        dummies = pd.get_dummies(data[col], prefix=col)\n",
        "        data = data.merge(dummies, left_index=True, right_index=True)\n",
        "    data = data.drop(materials, axis=1)\n",
        "    # Drop one of the binary one-hot columns - cf 'dummy variable trap'\n",
        "    data = data.drop('attribute_1_material_7', axis=1)\n",
        "    # product's width and height\n",
        "    data['2*3'] = data['attribute_2'] * data['attribute_3']\n",
        "    data = data.drop(['attribute_2', 'attribute_3'], axis=1)\n",
        "    # fill loading and measurement's nan  with IterativeImputer:\n",
        "    # impute by product_code\n",
        "    features = [\n",
        "        f for f in data.columns if f.startswith('measurement') or f == 'loading']\n",
        "    frames = []\n",
        "    for code in data.product_code.unique():\n",
        "        df = data[data.product_code==code].copy()\n",
        "        imputer = IterativeImputer(max_iter=50, random_state=0, skip_complete=True, n_nearest_features=12)\n",
        "        imputer.fit(df[features])\n",
        "        df[features] = imputer.transform(df[features])\n",
        "        frames.append(df)\n",
        "    data = pd.concat(frames)\n",
        "    # code from\n",
        "    # https://www.kaggle.com/code/desalegngeb/tps08-logisticregression-and-some-fe\n",
        "    data['measurement_avg'] = data[\n",
        "        [f'measurement_{i}' for i in range(3, 17)]].mean(axis=1)\n",
        "    data = data.drop(\n",
        "        [f'measurement_{i}' for i in range(3, 17)], axis=1)\n",
        "    # scale data to use logistic regression\n",
        "    scaler = StandardScaler()\n",
        "    columns = [a for a in data.columns \n",
        "               if a not in ['product_code', 'isTrain', 'withM3', 'withM5']]\n",
        "    data[columns] = scaler.fit_transform(data[columns])\n",
        "    return data\n",
        "\n",
        "\n",
        "test_df = data_process(test_df)"
      ],
      "metadata": {
        "colab": {
          "base_uri": "https://localhost:8080/"
        },
        "id": "WTU41dM9tW7s",
        "outputId": "564172a7-279c-48e0-c694-ed9287003b69"
      },
      "execution_count": 11,
      "outputs": [
        {
          "output_type": "stream",
          "name": "stderr",
          "text": [
            "/usr/local/lib/python3.8/dist-packages/sklearn/impute/_iterative.py:699: ConvergenceWarning: [IterativeImputer] Early stopping criterion not reached.\n",
            "  warnings.warn(\n",
            "/usr/local/lib/python3.8/dist-packages/sklearn/impute/_iterative.py:699: ConvergenceWarning: [IterativeImputer] Early stopping criterion not reached.\n",
            "  warnings.warn(\n",
            "/usr/local/lib/python3.8/dist-packages/sklearn/impute/_iterative.py:699: ConvergenceWarning: [IterativeImputer] Early stopping criterion not reached.\n",
            "  warnings.warn(\n",
            "/usr/local/lib/python3.8/dist-packages/sklearn/impute/_iterative.py:699: ConvergenceWarning: [IterativeImputer] Early stopping criterion not reached.\n",
            "  warnings.warn(\n"
          ]
        }
      ]
    },
    {
      "cell_type": "code",
      "source": [
        "model = torch.load(\"/content/drive/MyDrive/final project/model\")"
      ],
      "metadata": {
        "id": "i4h-Ra82t4Bs"
      },
      "execution_count": 12,
      "outputs": []
    },
    {
      "cell_type": "code",
      "source": [
        "predictions = model.predict_proba(test_df.drop('product_code', axis=1))[:, 1]"
      ],
      "metadata": {
        "id": "Uqwj8zq8uUce"
      },
      "execution_count": 13,
      "outputs": []
    },
    {
      "cell_type": "code",
      "source": [
        "submission = pd.read_csv(\n",
        "    '/content/drive/MyDrive/final project/sample_submission.csv', index_col='id')\n",
        "submission['failure'] = predictions\n",
        "submission"
      ],
      "metadata": {
        "colab": {
          "base_uri": "https://localhost:8080/",
          "height": 455
        },
        "id": "XS7N7txeuYfR",
        "outputId": "169c844b-9d6c-4103-cf55-dbad068ee1d0"
      },
      "execution_count": 14,
      "outputs": [
        {
          "output_type": "execute_result",
          "data": {
            "text/plain": [
              "        failure\n",
              "id             \n",
              "26570  0.452214\n",
              "26571  0.414097\n",
              "26572  0.431080\n",
              "26573  0.435558\n",
              "26574  0.640442\n",
              "...         ...\n",
              "47340  0.553326\n",
              "47341  0.388574\n",
              "47342  0.387117\n",
              "47343  0.501844\n",
              "47344  0.417604\n",
              "\n",
              "[20775 rows x 1 columns]"
            ],
            "text/html": [
              "\n",
              "  <div id=\"df-dfcb2c82-fccc-4933-936f-d11fadd6f668\">\n",
              "    <div class=\"colab-df-container\">\n",
              "      <div>\n",
              "<style scoped>\n",
              "    .dataframe tbody tr th:only-of-type {\n",
              "        vertical-align: middle;\n",
              "    }\n",
              "\n",
              "    .dataframe tbody tr th {\n",
              "        vertical-align: top;\n",
              "    }\n",
              "\n",
              "    .dataframe thead th {\n",
              "        text-align: right;\n",
              "    }\n",
              "</style>\n",
              "<table border=\"1\" class=\"dataframe\">\n",
              "  <thead>\n",
              "    <tr style=\"text-align: right;\">\n",
              "      <th></th>\n",
              "      <th>failure</th>\n",
              "    </tr>\n",
              "    <tr>\n",
              "      <th>id</th>\n",
              "      <th></th>\n",
              "    </tr>\n",
              "  </thead>\n",
              "  <tbody>\n",
              "    <tr>\n",
              "      <th>26570</th>\n",
              "      <td>0.452214</td>\n",
              "    </tr>\n",
              "    <tr>\n",
              "      <th>26571</th>\n",
              "      <td>0.414097</td>\n",
              "    </tr>\n",
              "    <tr>\n",
              "      <th>26572</th>\n",
              "      <td>0.431080</td>\n",
              "    </tr>\n",
              "    <tr>\n",
              "      <th>26573</th>\n",
              "      <td>0.435558</td>\n",
              "    </tr>\n",
              "    <tr>\n",
              "      <th>26574</th>\n",
              "      <td>0.640442</td>\n",
              "    </tr>\n",
              "    <tr>\n",
              "      <th>...</th>\n",
              "      <td>...</td>\n",
              "    </tr>\n",
              "    <tr>\n",
              "      <th>47340</th>\n",
              "      <td>0.553326</td>\n",
              "    </tr>\n",
              "    <tr>\n",
              "      <th>47341</th>\n",
              "      <td>0.388574</td>\n",
              "    </tr>\n",
              "    <tr>\n",
              "      <th>47342</th>\n",
              "      <td>0.387117</td>\n",
              "    </tr>\n",
              "    <tr>\n",
              "      <th>47343</th>\n",
              "      <td>0.501844</td>\n",
              "    </tr>\n",
              "    <tr>\n",
              "      <th>47344</th>\n",
              "      <td>0.417604</td>\n",
              "    </tr>\n",
              "  </tbody>\n",
              "</table>\n",
              "<p>20775 rows × 1 columns</p>\n",
              "</div>\n",
              "      <button class=\"colab-df-convert\" onclick=\"convertToInteractive('df-dfcb2c82-fccc-4933-936f-d11fadd6f668')\"\n",
              "              title=\"Convert this dataframe to an interactive table.\"\n",
              "              style=\"display:none;\">\n",
              "        \n",
              "  <svg xmlns=\"http://www.w3.org/2000/svg\" height=\"24px\"viewBox=\"0 0 24 24\"\n",
              "       width=\"24px\">\n",
              "    <path d=\"M0 0h24v24H0V0z\" fill=\"none\"/>\n",
              "    <path d=\"M18.56 5.44l.94 2.06.94-2.06 2.06-.94-2.06-.94-.94-2.06-.94 2.06-2.06.94zm-11 1L8.5 8.5l.94-2.06 2.06-.94-2.06-.94L8.5 2.5l-.94 2.06-2.06.94zm10 10l.94 2.06.94-2.06 2.06-.94-2.06-.94-.94-2.06-.94 2.06-2.06.94z\"/><path d=\"M17.41 7.96l-1.37-1.37c-.4-.4-.92-.59-1.43-.59-.52 0-1.04.2-1.43.59L10.3 9.45l-7.72 7.72c-.78.78-.78 2.05 0 2.83L4 21.41c.39.39.9.59 1.41.59.51 0 1.02-.2 1.41-.59l7.78-7.78 2.81-2.81c.8-.78.8-2.07 0-2.86zM5.41 20L4 18.59l7.72-7.72 1.47 1.35L5.41 20z\"/>\n",
              "  </svg>\n",
              "      </button>\n",
              "      \n",
              "  <style>\n",
              "    .colab-df-container {\n",
              "      display:flex;\n",
              "      flex-wrap:wrap;\n",
              "      gap: 12px;\n",
              "    }\n",
              "\n",
              "    .colab-df-convert {\n",
              "      background-color: #E8F0FE;\n",
              "      border: none;\n",
              "      border-radius: 50%;\n",
              "      cursor: pointer;\n",
              "      display: none;\n",
              "      fill: #1967D2;\n",
              "      height: 32px;\n",
              "      padding: 0 0 0 0;\n",
              "      width: 32px;\n",
              "    }\n",
              "\n",
              "    .colab-df-convert:hover {\n",
              "      background-color: #E2EBFA;\n",
              "      box-shadow: 0px 1px 2px rgba(60, 64, 67, 0.3), 0px 1px 3px 1px rgba(60, 64, 67, 0.15);\n",
              "      fill: #174EA6;\n",
              "    }\n",
              "\n",
              "    [theme=dark] .colab-df-convert {\n",
              "      background-color: #3B4455;\n",
              "      fill: #D2E3FC;\n",
              "    }\n",
              "\n",
              "    [theme=dark] .colab-df-convert:hover {\n",
              "      background-color: #434B5C;\n",
              "      box-shadow: 0px 1px 3px 1px rgba(0, 0, 0, 0.15);\n",
              "      filter: drop-shadow(0px 1px 2px rgba(0, 0, 0, 0.3));\n",
              "      fill: #FFFFFF;\n",
              "    }\n",
              "  </style>\n",
              "\n",
              "      <script>\n",
              "        const buttonEl =\n",
              "          document.querySelector('#df-dfcb2c82-fccc-4933-936f-d11fadd6f668 button.colab-df-convert');\n",
              "        buttonEl.style.display =\n",
              "          google.colab.kernel.accessAllowed ? 'block' : 'none';\n",
              "\n",
              "        async function convertToInteractive(key) {\n",
              "          const element = document.querySelector('#df-dfcb2c82-fccc-4933-936f-d11fadd6f668');\n",
              "          const dataTable =\n",
              "            await google.colab.kernel.invokeFunction('convertToInteractive',\n",
              "                                                     [key], {});\n",
              "          if (!dataTable) return;\n",
              "\n",
              "          const docLinkHtml = 'Like what you see? Visit the ' +\n",
              "            '<a target=\"_blank\" href=https://colab.research.google.com/notebooks/data_table.ipynb>data table notebook</a>'\n",
              "            + ' to learn more about interactive tables.';\n",
              "          element.innerHTML = '';\n",
              "          dataTable['output_type'] = 'display_data';\n",
              "          await google.colab.output.renderOutput(dataTable, element);\n",
              "          const docLink = document.createElement('div');\n",
              "          docLink.innerHTML = docLinkHtml;\n",
              "          element.appendChild(docLink);\n",
              "        }\n",
              "      </script>\n",
              "    </div>\n",
              "  </div>\n",
              "  "
            ]
          },
          "metadata": {},
          "execution_count": 14
        }
      ]
    },
    {
      "cell_type": "code",
      "source": [
        "submission.to_csv(\"submission.csv\")"
      ],
      "metadata": {
        "id": "0uTusdP8vtVq"
      },
      "execution_count": 16,
      "outputs": []
    },
    {
      "cell_type": "code",
      "source": [],
      "metadata": {
        "id": "0MTvKDVA82ki"
      },
      "execution_count": null,
      "outputs": []
    }
  ]
}